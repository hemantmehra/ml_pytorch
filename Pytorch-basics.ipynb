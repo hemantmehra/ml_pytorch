{
  "nbformat": 4,
  "nbformat_minor": 0,
  "metadata": {
    "colab": {
      "name": "Untitled7.ipynb",
      "provenance": [],
      "toc_visible": true,
      "authorship_tag": "ABX9TyOti70Y5+/oJTmmu7DCQMFO",
      "include_colab_link": true
    },
    "kernelspec": {
      "name": "python3",
      "display_name": "Python 3"
    }
  },
  "cells": [
    {
      "cell_type": "markdown",
      "metadata": {
        "id": "view-in-github",
        "colab_type": "text"
      },
      "source": [
        "<a href=\"https://colab.research.google.com/github/hemantmehra/ml_pytorch/blob/master/Pytorch-basics.ipynb\" target=\"_parent\"><img src=\"https://colab.research.google.com/assets/colab-badge.svg\" alt=\"Open In Colab\"/></a>"
      ]
    },
    {
      "cell_type": "code",
      "metadata": {
        "id": "0f5GroZM3vKj",
        "colab_type": "code",
        "colab": {}
      },
      "source": [
        "import torch \n",
        "import torchvision\n",
        "import torch.nn as nn\n",
        "import numpy as np\n",
        "import torchvision.transforms as transforms"
      ],
      "execution_count": null,
      "outputs": []
    },
    {
      "cell_type": "markdown",
      "metadata": {
        "id": "SsoTBRwKEvM_",
        "colab_type": "text"
      },
      "source": [
        "# Basic Autograd Example 1"
      ]
    },
    {
      "cell_type": "code",
      "metadata": {
        "id": "IhezMvZrCmJq",
        "colab_type": "code",
        "colab": {
          "base_uri": "https://localhost:8080/",
          "height": 68
        },
        "outputId": "d9eb8382-0b77-43e1-f9f1-e76e68b05903"
      },
      "source": [
        "x = torch.tensor(10., requires_grad=True)\n",
        "w = torch.tensor(20., requires_grad=True)\n",
        "b = torch.tensor(30., requires_grad=True)\n",
        "x, w, b"
      ],
      "execution_count": null,
      "outputs": [
        {
          "output_type": "execute_result",
          "data": {
            "text/plain": [
              "(tensor(10., requires_grad=True),\n",
              " tensor(20., requires_grad=True),\n",
              " tensor(30., requires_grad=True))"
            ]
          },
          "metadata": {
            "tags": []
          },
          "execution_count": 5
        }
      ]
    },
    {
      "cell_type": "code",
      "metadata": {
        "id": "9a44DuLoCxsm",
        "colab_type": "code",
        "colab": {
          "base_uri": "https://localhost:8080/",
          "height": 34
        },
        "outputId": "466d6b41-dccc-4a35-e650-f9ef008e80d4"
      },
      "source": [
        "y = w * x + b\n",
        "y"
      ],
      "execution_count": null,
      "outputs": [
        {
          "output_type": "execute_result",
          "data": {
            "text/plain": [
              "tensor(230., grad_fn=<AddBackward0>)"
            ]
          },
          "metadata": {
            "tags": []
          },
          "execution_count": 6
        }
      ]
    },
    {
      "cell_type": "code",
      "metadata": {
        "id": "NM7AgruBC-OX",
        "colab_type": "code",
        "colab": {
          "base_uri": "https://localhost:8080/",
          "height": 34
        },
        "outputId": "0d0d16da-22f1-45d4-fa0b-2a8ebf41adb3"
      },
      "source": [
        "y.backward()\n",
        "x.grad, w.grad, b.grad"
      ],
      "execution_count": null,
      "outputs": [
        {
          "output_type": "execute_result",
          "data": {
            "text/plain": [
              "(tensor(20.), tensor(10.), tensor(1.))"
            ]
          },
          "metadata": {
            "tags": []
          },
          "execution_count": 7
        }
      ]
    },
    {
      "cell_type": "markdown",
      "metadata": {
        "id": "UhBMpmjGE-W2",
        "colab_type": "text"
      },
      "source": [
        "# Basic Autograd Example 2"
      ]
    },
    {
      "cell_type": "code",
      "metadata": {
        "id": "tiNX2sm6DAGn",
        "colab_type": "code",
        "colab": {}
      },
      "source": [
        "x = torch.randn(10, 3)\n",
        "y = torch.randn(10, 2)"
      ],
      "execution_count": null,
      "outputs": []
    },
    {
      "cell_type": "code",
      "metadata": {
        "id": "RTIOCaa7Fhqd",
        "colab_type": "code",
        "colab": {
          "base_uri": "https://localhost:8080/",
          "height": 102
        },
        "outputId": "f6cab8fa-6205-4493-b4aa-7223adaeb7f9"
      },
      "source": [
        "linear = nn.Linear(3, 2)\n",
        "linear.weight, linear.bias"
      ],
      "execution_count": null,
      "outputs": [
        {
          "output_type": "execute_result",
          "data": {
            "text/plain": [
              "(Parameter containing:\n",
              " tensor([[ 0.0274,  0.2762, -0.0963],\n",
              "         [-0.3595, -0.2327, -0.1054]], requires_grad=True),\n",
              " Parameter containing:\n",
              " tensor([0.3090, 0.1895], requires_grad=True))"
            ]
          },
          "metadata": {
            "tags": []
          },
          "execution_count": 39
        }
      ]
    },
    {
      "cell_type": "code",
      "metadata": {
        "id": "6CrmneROFuhL",
        "colab_type": "code",
        "colab": {
          "base_uri": "https://localhost:8080/",
          "height": 102
        },
        "outputId": "b293ae69-59fc-4349-eea1-86f536cadee5"
      },
      "source": [
        "for i in linear.parameters():\n",
        "  print(i)"
      ],
      "execution_count": null,
      "outputs": [
        {
          "output_type": "stream",
          "text": [
            "Parameter containing:\n",
            "tensor([[ 0.0274,  0.2762, -0.0963],\n",
            "        [-0.3595, -0.2327, -0.1054]], requires_grad=True)\n",
            "Parameter containing:\n",
            "tensor([0.3090, 0.1895], requires_grad=True)\n"
          ],
          "name": "stdout"
        }
      ]
    },
    {
      "cell_type": "code",
      "metadata": {
        "id": "oDf3N7q9F6Q_",
        "colab_type": "code",
        "colab": {}
      },
      "source": [
        "criterion = nn.MSELoss()\n",
        "optimizer = torch.optim.SGD(linear.parameters(), lr=0.01)"
      ],
      "execution_count": null,
      "outputs": []
    },
    {
      "cell_type": "code",
      "metadata": {
        "id": "dk3UsQoeGk2V",
        "colab_type": "code",
        "colab": {
          "base_uri": "https://localhost:8080/",
          "height": 102
        },
        "outputId": "d4818123-9b29-4620-e198-09efcc6b8351"
      },
      "source": [
        "pred = linear(x)\n",
        "loss = criterion(pred, y)\n",
        "print('loss at step 0: ', loss.item())\n",
        "loss.backward()\n",
        "print ('dL/dw: ', linear.weight.grad) \n",
        "print ('dL/db: ', linear.bias.grad)\n",
        "optimizer.step()\n",
        "pred = linear(x)\n",
        "loss = criterion(pred, y)\n",
        "print('loss at step 1: ', loss.item())"
      ],
      "execution_count": null,
      "outputs": [
        {
          "output_type": "stream",
          "text": [
            "loss at step 0:  1.616817831993103\n",
            "dL/dw:  tensor([[-0.1027,  0.2951, -0.6354],\n",
            "        [ 0.0894, -0.5346,  0.1998]])\n",
            "dL/db:  tensor([0.9812, 0.1341])\n",
            "loss at step 1:  1.5987653732299805\n"
          ],
          "name": "stdout"
        }
      ]
    },
    {
      "cell_type": "code",
      "metadata": {
        "id": "2fbt9LUFGoqu",
        "colab_type": "code",
        "colab": {}
      },
      "source": [
        ""
      ],
      "execution_count": null,
      "outputs": []
    }
  ]
}